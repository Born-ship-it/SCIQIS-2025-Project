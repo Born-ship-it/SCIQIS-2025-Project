{
 "cells": [
  {
   "cell_type": "markdown",
   "id": "970c3bb9-e7a9-44fd-9ebb-ce2dcce5e263",
   "metadata": {},
   "source": [
    "# Introduction: Cavity optomechanics"
   ]
  },
  {
   "cell_type": "markdown",
   "id": "91634019-6199-455f-9711-c73413d38d69",
   "metadata": {},
   "source": [
    "![image.png](Img/common_setups.png)\n",
    "\n",
    "In the notebooks I try to explore different properties of cavity optomechanics by utilizing QuTiP. I explore QuTiP mainly by it master equation solver *mesolve()*, then taking the result I visualize the different properties (Utilizing data analysis):\n",
    "\n",
    "- Expectation value\n",
    "- Linear entropy\n",
    "- Hilbert space truncation\n",
    "- Fock distribution\n",
    "- Wigner function\n",
    "- Rabi oscillation\n",
    "\n",
    "I try to make some of these properties interactable by using *matplotlib.animation*.\n",
    "\n",
    "You will find 2 files of notebooks *Atom-Cavity* and *Cavity-Mirror*, that looks at these properties. \n",
    "\n",
    "*Idea for futher, wanted to write and read from a file for the result of mesolve().*\n",
    "\n",
    "I note I got inspiration from these references: \n",
    "\n",
    "- Cavity with a moving mirror: https://nbviewer.org/github/jrjohansson/reproduced-papers/blob/master/Reproduce-PRA-56-4175-1997-Bose.ipynb\n",
    "- Vacuum Rabi oscillations: https://nbviewer.org/urls/qutip.org/qutip-tutorials/tutorials-v5/time-evolution/004_rabi-oscillations.ipynb"
   ]
  },
  {
   "cell_type": "markdown",
   "id": "ca380910-c801-4fbd-b2e1-a2e8efb88409",
   "metadata": {},
   "source": [
    "### Speedup\n",
    "I tried speeding up the code but found it was not quite possible in the introduced ways, or i didnt have enough time to research it fully, of which:\n",
    "- *@njit*, not possible bc. of QObjt of QuTiP couldnt handle it\n",
    "- *nampa ne.evaulate()*, checked if implementation gave a speed e.g. Hamiltonian, did not find a difference (saw wrong values)\n",
    "\n",
    "To see the difference I profilied the code by *line_profiler* and *%timeit*.\n",
    "\n",
    "### Visualisation\n",
    "I implemented interaction, animation and specified properties of plots. Using things such as:*matplotlib, pyplot, ArtistAnimation, ipywidgets, GridspecLayout, interactive, Layout, display*"
   ]
  },
  {
   "cell_type": "markdown",
   "id": "fee05ed1-c166-4075-ad67-2e0a3382f29b",
   "metadata": {},
   "source": [
    "## QuTiP, references of states"
   ]
  },
  {
   "cell_type": "code",
   "execution_count": 1,
   "id": "18eaf087-1d56-49ef-bf67-e1f0066956b5",
   "metadata": {},
   "outputs": [],
   "source": [
    "from math import sqrt\n",
    "\n",
    "import matplotlib as mpl\n",
    "\n",
    "import matplotlib.pyplot as plt\n",
    "import matplotlib.animation as animation\n",
    "\n",
    "import numpy as np\n",
    "import qutip as q\n",
    "\n",
    "import ipywidgets as widgets\n",
    "from ipywidgets import interact, interactive\n",
    "\n",
    "q.settings.colorblind_safe = True\n",
    "\n",
    "%matplotlib widget\n",
    "%matplotlib ipympl\n",
    "%load_ext line_profiler"
   ]
  },
  {
   "cell_type": "code",
   "execution_count": null,
   "id": "cb91ea34-3982-4d5f-b90a-840c07aea252",
   "metadata": {},
   "outputs": [],
   "source": [
    "N, n, alpha = 2, 1, 1\n",
    "a, ad = q.destroy(N), q.create(N)\n",
    "\n",
    "plt.close()\n",
    "fig, ((ax0, ax00), (ax01, ax001), (ax1, ax10), (ax11, ax101), (ax2, ax20), (ax3, ax30), (ax4, ax40), (ax5, ax50))  = plt.subplots(8, 2, figsize=(6.5,20))\n",
    "\n",
    "#plt.subplots_adjust(wspace=.4)\n",
    "\n",
    "ax0.set_aspect(1); ax0.grid(); ax0.set_title(r\"Basis state\");       ax0.set_xlim(-3,3); ax0.set_ylim(-3,3)\n",
    "ax01.set_aspect(1); ax01.grid(); ax01.set_title(r\"Basis state w. 1 photon\");       ax01.set_xlim(-3,3); ax01.set_ylim(-3,3)\n",
    "ax1.set_aspect(1); ax1.grid(); ax1.set_title(r\"Coherent state\");    ax1.set_xlim(-3,3); ax1.set_ylim(-3,3)\n",
    "ax11.set_aspect(1); ax11.grid(); ax11.set_title(r\"Coherent state w. $a^\\dagger$\");    ax11.set_xlim(-3,3); ax11.set_ylim(-3,3)\n",
    "ax2.set_aspect(1); ax2.grid(); ax2.set_title(\"Thermal state\");     ax2.set_xlim(-3,3); ax2.set_ylim(-3,3)\n",
    "ax3.set_aspect(1); ax3.grid(); ax3.set_title(\"Max mixed state\");   ax3.set_xlim(-3,3); ax3.set_ylim(-3,3)\n",
    "ax4.set_aspect(1); ax4.grid(); ax4.set_title(\"Fock state\");        ax4.set_xlim(-3,3); ax4.set_ylim(-3,3)\n",
    "ax5.set_aspect(1); ax5.grid(); ax5.set_title(\"GHZ state\");         ax5.set_xlim(-3,3); ax5.set_ylim(-3,3)\n",
    "\n",
    "q.plot_wigner((q.basis(N)).unit(), projection='2d', cmap='RdBu_r',  ax=ax0)\n",
    "q.plot_fock_distribution(q.basis(N).unit(), ax=ax00)\n",
    "ax00.set_xticks(range(N*2+2))\n",
    "\n",
    "q.plot_wigner((q.basis(N, 1)).unit(), projection='2d', cmap='RdBu_r',  ax=ax01)\n",
    "q.plot_fock_distribution(q.basis(N).unit(), ax=ax001)\n",
    "ax001.set_xticks(range(N*2+2))\n",
    "\n",
    "q.plot_wigner((q.coherent(N, alpha)).unit(), projection='2d', cmap='RdBu_r',  ax=ax1)\n",
    "q.plot_fock_distribution(q.coherent(N, alpha).unit(), ax=ax10)\n",
    "ax10.set_xticks(range(N*2+2))\n",
    "\n",
    "q.plot_wigner((ad*q.coherent(N, alpha)).unit(), projection='2d', cmap='RdBu_r',  ax=ax11)\n",
    "q.plot_fock_distribution(ad*q.coherent(N, alpha).unit(), ax=ax101)\n",
    "ax101.set_xticks(range(N*2+2))\n",
    "\n",
    "q.plot_wigner((q.thermal_dm(N, n)), projection='2d', cmap='RdBu_r',  ax=ax2)\n",
    "q.plot_fock_distribution(q.thermal_dm(N, n), ax=ax20)\n",
    "ax20.set_xticks(range(N*2+2))\n",
    "\n",
    "q.plot_wigner((q.maximally_mixed_dm(2)), projection='2d', cmap='RdBu_r',  ax=ax3)\n",
    "q.plot_fock_distribution(q.maximally_mixed_dm(2), ax=ax30)\n",
    "ax30.set_xticks(range(N*2+2))\n",
    "\n",
    "q.plot_wigner((q.fock_dm(N, N-1)), projection='2d', cmap='RdBu_r',  ax=ax4)\n",
    "q.plot_fock_distribution(q.fock_dm(N, N-1), ax=ax40)\n",
    "ax40.set_xticks(range(N*2+2))\n",
    "\n",
    "q.plot_wigner((q.ghz_state(N)), projection='2d', cmap='RdBu_r',  ax=ax5)\n",
    "q.plot_fock_distribution(q.ghz_state(N), ax=ax50)\n",
    "\n",
    "fig.canvas.toolbar_visible = False\n",
    "fig.canvas.header_visible = False\n",
    "fig.canvas.footer_visible = False\n",
    "fig.canvas.resizable = False\n",
    "\n",
    "plt.tight_layout()\n",
    "plt.show()"
   ]
  },
  {
   "cell_type": "code",
   "execution_count": 3,
   "id": "9fa3a38f-2fa2-4df0-9a90-ffc7f9e1c4c8",
   "metadata": {},
   "outputs": [
    {
     "data": {
      "application/vnd.jupyter.widget-view+json": {
       "model_id": "6da3fa657c6a44d49b7e062a0dfee102",
       "version_major": 2,
       "version_minor": 0
      },
      "text/plain": [
       "interactive(children=(IntSlider(value=20, description='N', max=30, min=1), FloatSlider(value=0.0, description=…"
      ]
     },
     "metadata": {},
     "output_type": "display_data"
    }
   ],
   "source": [
    "def phaseshift(N, theta):\n",
    "    op = 1j * theta/2 * (q.position(N)**2 + q.momentum(N)**2)\n",
    "    return q.Qobj(op.expm())\n",
    "\n",
    "points = np.linspace(-6, 6, 140)\n",
    "\n",
    "@interact(N=(1,30), r=(-1.,1.), theta=(-np.pi,np.pi), xdisp=(-4.,4.), pdisp=(-4.,4.))\n",
    "def gaussian(N=20, r=0, theta=0, xdisp=0, pdisp=0):\n",
    "    plt.close()\n",
    "    \n",
    "    s = q.displace(N, (xdisp + pdisp*1j)/np.sqrt(2)) * phaseshift(N, theta) * q.squeeze(N, r) * q.basis(N)\n",
    "    \n",
    "    fig, (ax0, ax1) = plt.subplots(1, 2, figsize=(6.5,3))\n",
    "    \n",
    "    plt.subplots_adjust(wspace=.4)\n",
    "    \n",
    "    ax0.set_aspect(1)\n",
    "    ax0.grid()\n",
    "    \n",
    "    q.plot_wigner(s, xvec=points, yvec=points, ax=ax0, cmap='RdBu_r')\n",
    "    q.plot_fock_distribution(s, ax=ax1)\n",
    "\n",
    "    fig.canvas.toolbar_visible = False\n",
    "    fig.canvas.header_visible = False\n",
    "    fig.canvas.footer_visible = False\n",
    "    fig.canvas.resizable = False\n",
    "\n",
    "    plt.tight_layout()\n",
    "    plt.show()"
   ]
  },
  {
   "cell_type": "code",
   "execution_count": null,
   "id": "8cc8a24b-6474-4ac3-ae3e-6b3dbe1fc656",
   "metadata": {},
   "outputs": [],
   "source": []
  },
  {
   "cell_type": "code",
   "execution_count": null,
   "id": "3b0ab9cb-eb45-46f3-8a88-4c52c97a52c9",
   "metadata": {},
   "outputs": [],
   "source": []
  }
 ],
 "metadata": {
  "kernelspec": {
   "display_name": "Python (sciqis)",
   "language": "python",
   "name": "sciqis"
  },
  "language_info": {
   "codemirror_mode": {
    "name": "ipython",
    "version": 3
   },
   "file_extension": ".py",
   "mimetype": "text/x-python",
   "name": "python",
   "nbconvert_exporter": "python",
   "pygments_lexer": "ipython3",
   "version": "3.13.7"
  }
 },
 "nbformat": 4,
 "nbformat_minor": 5
}
