{
 "cells": [
  {
   "cell_type": "code",
   "execution_count": null,
   "id": "d877af9f",
   "metadata": {},
   "outputs": [],
   "source": [
    "print(\"hello world\")"
   ]
  }
 ],
 "metadata": {
  "kernelspec": {
   "display_name": "SCIQIS_kernel",
   "language": "python",
   "name": "sciqis_kernel"
  },
  "language_info": {
   "name": "python",
   "version": "3.13.5"
  }
 },
 "nbformat": 4,
 "nbformat_minor": 5
}
